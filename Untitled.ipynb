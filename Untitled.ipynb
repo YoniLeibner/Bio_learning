{
 "cells": [
  {
   "cell_type": "code",
   "execution_count": 1,
   "id": "377afadd",
   "metadata": {},
   "outputs": [],
   "source": [
    "import torch\n",
    "from torchvision import datasets\n",
    "from torchvision.transforms import ToTensor\n",
    "from torch.utils.data import DataLoader\n",
    "import torch.nn as nn\n",
    "from torch import optim\n",
    "from torch.autograd import Variable\n",
    "import matplotlib.pyplot as plt\n",
    "import os, pickle\n",
    "import numpy as np"
   ]
  },
  {
   "cell_type": "code",
   "execution_count": null,
   "id": "039dc58c",
   "metadata": {},
   "outputs": [],
   "source": []
  },
  {
   "cell_type": "code",
   "execution_count": 3,
   "id": "29622dfb",
   "metadata": {
    "scrolled": true
   },
   "outputs": [
    {
     "name": "stdout",
     "output_type": "stream",
     "text": [
      "Downloading https://www.cs.toronto.edu/~kriz/cifar-10-python.tar.gz to CIFAR10_train_data/cifar-10-python.tar.gz\n"
     ]
    },
    {
     "data": {
      "application/vnd.jupyter.widget-view+json": {
       "model_id": "43c31af8bfc34341be86cad7ad066b7e",
       "version_major": 2,
       "version_minor": 0
      },
      "text/plain": [
       "  0%|          | 0/170498071 [00:00<?, ?it/s]"
      ]
     },
     "metadata": {},
     "output_type": "display_data"
    },
    {
     "name": "stdout",
     "output_type": "stream",
     "text": [
      "Extracting CIFAR10_train_data/cifar-10-python.tar.gz to CIFAR10_train_data\n",
      "Downloading https://www.cs.toronto.edu/~kriz/cifar-10-python.tar.gz to CIFAR10_test_data/cifar-10-python.tar.gz\n"
     ]
    },
    {
     "data": {
      "application/vnd.jupyter.widget-view+json": {
       "model_id": "8a79488c42894cc08dabcd1ffe87bebd",
       "version_major": 2,
       "version_minor": 0
      },
      "text/plain": [
       "  0%|          | 0/170498071 [00:00<?, ?it/s]"
      ]
     },
     "metadata": {},
     "output_type": "display_data"
    },
    {
     "name": "stdout",
     "output_type": "stream",
     "text": [
      "Extracting CIFAR10_test_data/cifar-10-python.tar.gz to CIFAR10_test_data\n"
     ]
    }
   ],
   "source": [
    "\n",
    "train_data = datasets.CIFAR10(\n",
    "    root = 'CIFAR10_train_data',\n",
    "    train = True,\n",
    "    transform = ToTensor(),\n",
    "    download = True,\n",
    ")\n",
    "test_data = datasets.CIFAR10(\n",
    "    root = 'CIFAR10_test_data',\n",
    "    train = False,\n",
    "    transform = ToTensor(),\n",
    "    download = True,\n",
    ")\n",
    "\n",
    "loaders = {\n",
    "    'train': torch.utils.data.DataLoader(train_data,\n",
    "                                         batch_size=100,\n",
    "                                         shuffle=True,\n",
    "                                         num_workers=4),\n",
    "\n",
    "    'test': torch.utils.data.DataLoader(test_data,\n",
    "                                        batch_size=100,\n",
    "                                        shuffle=True,\n",
    "                                        num_workers=4),\n",
    "}"
   ]
  },
  {
   "cell_type": "code",
   "execution_count": 4,
   "id": "500d3dd3",
   "metadata": {},
   "outputs": [],
   "source": [
    "\n",
    "class CorrelatedGroupSelector(nn.Module):\n",
    "    def __init__(self, input_dim, num_groups, group_size, temperature=1.0):\n",
    "        super().__init__()\n",
    "        self.input_dim = input_dim\n",
    "        self.num_groups = num_groups\n",
    "        self.group_size = group_size\n",
    "        self.temperature = temperature\n",
    "\n",
    "        # Learnable logits for group membership: [num_groups, input_dim]\n",
    "        self.group_logits = nn.Parameter(torch.randn(num_groups, input_dim))\n",
    "\n",
    "    def forward(self, x):\n",
    "        \"\"\"\n",
    "        x: (batch_size, input_dim)\n",
    "        Returns:\n",
    "            grouped_inputs: list of tensors [(batch, group_size), ...]\n",
    "            selection_mask: (num_groups, input_dim)\n",
    "        \"\"\"\n",
    "        # Gumbel-Softmax over inputs to create a soft group selection\n",
    "        gumbel_noise = -torch.log(-torch.log(torch.rand_like(self.group_logits)))\n",
    "        logits = self.group_logits + gumbel_noise\n",
    "        probs = F.softmax(logits / self.temperature, dim=-1)\n",
    "\n",
    "        # Use top-k per group to select group members\n",
    "        topk = torch.topk(probs, self.group_size, dim=-1)\n",
    "        selection_mask = torch.zeros_like(probs)\n",
    "        selection_mask.scatter_(1, topk.indices, 1.0)  # hard selection mask\n",
    "\n",
    "        grouped_inputs = []\n",
    "        for i in range(self.num_groups):\n",
    "            group = selection_mask[i] * x  # broadcasted (batch, input_dim)\n",
    "            grouped_inputs.append(group)\n",
    "\n",
    "        return grouped_inputs, selection_mask\n",
    "\n",
    "def compute_group_correlation(group):\n",
    "    \"\"\"\n",
    "    group: (batch_size, input_dim) where non-grouped values are 0\n",
    "    Returns: scalar correlation score (avg pairwise cosine)\n",
    "    \"\"\"\n",
    "    # Only non-zero cols\n",
    "    nonzero = (group.abs().sum(0) > 0)\n",
    "    group_vars = group[:, nonzero]\n",
    "    if group_vars.shape[1] < 2:\n",
    "        return torch.tensor(0.0, device=group.device)\n",
    "    normed = F.normalize(group_vars, dim=0)\n",
    "    corr = (normed.T @ normed) / normed.shape[0]\n",
    "    upper = torch.triu(corr, diagonal=1)\n",
    "    avg_corr = upper.sum() / (nonzero.sum() * (nonzero.sum() - 1) / 2 + 1e-6)\n",
    "    return avg_corr\n",
    "\n",
    "class SelectiveGroupModel(nn.Module):\n",
    "    def __init__(self, input_dim, num_groups=4, group_size=4):\n",
    "        super().__init__()\n",
    "        self.selector = CorrelatedGroupSelector(input_dim, num_groups, group_size)\n",
    "        self.group_mlp = nn.ModuleList([\n",
    "            nn.Sequential(\n",
    "                nn.Linear(input_dim, 16),\n",
    "                nn.ReLU(),\n",
    "                nn.Linear(16, 1)\n",
    "            ) for _ in range(num_groups)\n",
    "        ])\n",
    "\n",
    "    def forward(self, x):\n",
    "        groups, mask = self.selector(x)\n",
    "\n",
    "        # Compute correlation per group\n",
    "        correlations = torch.stack([compute_group_correlation(g) for g in groups])\n",
    "        _, selected_indices = torch.topk(-correlations, k=2)  # lowest 2 correlations\n",
    "\n",
    "        # Only update selected groups\n",
    "        outputs = []\n",
    "        for i, group in enumerate(groups):\n",
    "            if i in selected_indices:\n",
    "                out = self.group_mlp[i](group)\n",
    "            else:\n",
    "                with torch.no_grad():\n",
    "                    out = self.group_mlp[i](group)\n",
    "            outputs.append(out)\n",
    "\n",
    "        out = torch.cat(outputs, dim=1)\n",
    "        return out, correlations"
   ]
  },
  {
   "cell_type": "code",
   "execution_count": 5,
   "id": "874d32f5",
   "metadata": {},
   "outputs": [],
   "source": [
    "model = SelectiveGroupModel(input_dim=20, num_groups=5, group_size=4)\n",
    "optimizer = torch.optim.Adam(model.parameters(), lr=1e-3)\n"
   ]
  },
  {
   "cell_type": "code",
   "execution_count": 9,
   "id": "398735f5",
   "metadata": {},
   "outputs": [
    {
     "data": {
      "text/plain": [
       "torch.Size([5, 20])"
      ]
     },
     "execution_count": 9,
     "metadata": {},
     "output_type": "execute_result"
    }
   ],
   "source": [
    "model.selector.group_logits.shape"
   ]
  },
  {
   "cell_type": "code",
   "execution_count": 13,
   "id": "6d741dd6",
   "metadata": {},
   "outputs": [
    {
     "data": {
      "text/plain": [
       "SelectiveGroupModel(\n",
       "  (selector): CorrelatedGroupSelector()\n",
       "  (group_mlp): ModuleList(\n",
       "    (0): Sequential(\n",
       "      (0): Linear(in_features=20, out_features=16, bias=True)\n",
       "      (1): ReLU()\n",
       "      (2): Linear(in_features=16, out_features=1, bias=True)\n",
       "    )\n",
       "    (1): Sequential(\n",
       "      (0): Linear(in_features=20, out_features=16, bias=True)\n",
       "      (1): ReLU()\n",
       "      (2): Linear(in_features=16, out_features=1, bias=True)\n",
       "    )\n",
       "    (2): Sequential(\n",
       "      (0): Linear(in_features=20, out_features=16, bias=True)\n",
       "      (1): ReLU()\n",
       "      (2): Linear(in_features=16, out_features=1, bias=True)\n",
       "    )\n",
       "    (3): Sequential(\n",
       "      (0): Linear(in_features=20, out_features=16, bias=True)\n",
       "      (1): ReLU()\n",
       "      (2): Linear(in_features=16, out_features=1, bias=True)\n",
       "    )\n",
       "    (4): Sequential(\n",
       "      (0): Linear(in_features=20, out_features=16, bias=True)\n",
       "      (1): ReLU()\n",
       "      (2): Linear(in_features=16, out_features=1, bias=True)\n",
       "    )\n",
       "  )\n",
       ")"
      ]
     },
     "execution_count": 13,
     "metadata": {},
     "output_type": "execute_result"
    }
   ],
   "source": [
    "model"
   ]
  },
  {
   "cell_type": "code",
   "execution_count": null,
   "id": "ac1a6ca9",
   "metadata": {},
   "outputs": [],
   "source": [
    "for epoch in range(num_epochs):\n",
    "    model.train()\n",
    "    running_loss = 0.0\n",
    "\n",
    "    for inputs, labels in train_loader:\n",
    "        inputs = inputs.to(device)\n",
    "        labels = labels.to(device)\n",
    "\n",
    "        # Flatten the input images\n",
    "        inputs_flat = inputs.view(inputs.size(0), -1)\n",
    "\n",
    "        # Zero the parameter gradients\n",
    "        optimizer.zero_grad()\n",
    "\n",
    "        # Forward pass\n",
    "        outputs, corr_reg, scores = model(inputs_flat)\n",
    "\n",
    "        # Compute loss\n",
    "        loss = criterion(outputs, labels) - 0.1 * corr_reg  # Adjust the weight of corr_reg as needed\n",
    "\n",
    "        # Backward pass and optimization\n",
    "        loss.backward()\n",
    "        optimizer.step()\n",
    "\n",
    "        running_loss += loss.item()\n",
    "\n",
    "    print(f\"Epoch {epoch+1}/{num_epochs}, Loss: {running_loss/len(train_loader)}\")"
   ]
  },
  {
   "cell_type": "code",
   "execution_count": null,
   "id": "39493874",
   "metadata": {},
   "outputs": [],
   "source": []
  },
  {
   "cell_type": "code",
   "execution_count": null,
   "id": "e105cb72",
   "metadata": {},
   "outputs": [],
   "source": []
  },
  {
   "cell_type": "code",
   "execution_count": null,
   "id": "29f327c4",
   "metadata": {},
   "outputs": [],
   "source": []
  },
  {
   "cell_type": "code",
   "execution_count": 14,
   "id": "e77801b7",
   "metadata": {},
   "outputs": [],
   "source": [
    "import numpy as np\n",
    "import matplotlib.pyplot as plt\n",
    "import math\n",
    "import sys,os, glob\n",
    "from neo import io\n",
    "import pandas as pd\n"
   ]
  },
  {
   "cell_type": "code",
   "execution_count": 16,
   "id": "2037ce56",
   "metadata": {},
   "outputs": [
    {
     "name": "stdout",
     "output_type": "stream",
     "text": [
      "/ems/elsc-labs/segev-i/yoni.leibner/PycharmProjects/Hippocampus_Basu/traces/21921044.abf\n"
     ]
    }
   ],
   "source": [
    "base_dirr = '/ems/elsc-labs/segev-i/yoni.leibner/PycharmProjects/Hippocampus_Basu/traces/'\n",
    "f = os.path.join(base_dirr, \"21921044.abf\")\n",
    "print(f)"
   ]
  },
  {
   "cell_type": "code",
   "execution_count": 17,
   "id": "35a375b2",
   "metadata": {},
   "outputs": [],
   "source": [
    "r = io.AxonIO(f)\n",
    "bl = r.read_block(lazy=False)\n"
   ]
  },
  {
   "cell_type": "code",
   "execution_count": 19,
   "id": "302e7082",
   "metadata": {},
   "outputs": [
    {
     "data": {
      "text/plain": [
       "Group with [<AnalogSignal(array([[-74.45068],\n",
       "       [-74.49341],\n",
       "       [-74.37744],\n",
       "       ...,\n",
       "       [-75.29297],\n",
       "       [-75.18921],\n",
       "       [-75.1709 ]], dtype=float32) * mV, [0.020999999999999998 s, 32.021 s], sampling rate: 10000.0 Hz)>, <AnalogSignal(array([[-75.061035],\n",
       "       [-75.23804 ],\n",
       "       [-75.11597 ],\n",
       "       ...,\n",
       "       [-75.579834],\n",
       "       [-75.701904],\n",
       "       [-75.72632 ]], dtype=float32) * mV, [32.021 s, 64.021 s], sampling rate: 10000.0 Hz)>, <AnalogSignal(array([[-75.65918 ],\n",
       "       [-75.68359 ],\n",
       "       [-75.64697 ],\n",
       "       ...,\n",
       "       [-75.77515 ],\n",
       "       [-75.909424],\n",
       "       [-75.89722 ]], dtype=float32) * mV, [64.021 s, 96.021 s], sampling rate: 10000.0 Hz)>] analogsignals\n",
       "name: 'Signals'\n",
       "annotations: {'stream_id': '0'}"
      ]
     },
     "execution_count": 19,
     "metadata": {},
     "output_type": "execute_result"
    }
   ],
   "source": [
    "bl.groups[0]"
   ]
  },
  {
   "cell_type": "code",
   "execution_count": 26,
   "id": "0413c31a",
   "metadata": {},
   "outputs": [
    {
     "data": {
      "text/plain": [
       "[<matplotlib.lines.Line2D at 0x72766aa41fa0>]"
      ]
     },
     "execution_count": 26,
     "metadata": {},
     "output_type": "execute_result"
    },
    {
     "data": {
      "image/png": "[encoded data removed]",
      "text/plain": [
       "<Figure size 640x480 with 1 Axes>"
      ]
     },
     "metadata": {},
     "output_type": "display_data"
    }
   ],
   "source": [
    "plt.plot(np.array(bl.segments[0].analogsignals[0])[:,0])"
   ]
  },
  {
   "cell_type": "code",
   "execution_count": 27,
   "id": "152a7abe",
   "metadata": {},
   "outputs": [],
   "source": [
    "V = np.array(bl.segments[0].analogsignals[0])[:,0]"
   ]
  },
  {
   "cell_type": "code",
   "execution_count": 28,
   "id": "6a27dcc6",
   "metadata": {},
   "outputs": [],
   "source": [
    "sr = bl.segments[0].analogsignals[0].sampling_rate"
   ]
  },
  {
   "cell_type": "code",
   "execution_count": 30,
   "id": "2f64e016",
   "metadata": {},
   "outputs": [],
   "source": [
    "T = np.arange(0, len(V), 1)*1000.0/sr"
   ]
  },
  {
   "cell_type": "code",
   "execution_count": 41,
   "id": "c54039d9",
   "metadata": {},
   "outputs": [
    {
     "data": {
      "text/plain": [
       "<matplotlib.lines.Line2D at 0x727667ea9dc0>"
      ]
     },
     "execution_count": 41,
     "metadata": {},
     "output_type": "execute_result"
    },
    {
     "data": {
      "image/png": "[encoded data removed]",
      "text/plain": [
       "<Figure size 640x480 with 1 Axes>"
      ]
     },
     "metadata": {},
     "output_type": "display_data"
    }
   ],
   "source": [
    "plt.plot(T, V)\n",
    "plt.xlim(30000, 31000)\n",
    "plt.axvline(31000)"
   ]
  },
  {
   "cell_type": "code",
   "execution_count": null,
   "id": "e3514387",
   "metadata": {},
   "outputs": [],
   "source": []
  }
 ],
 "metadata": {
  "kernelspec": {
   "display_name": "Python 3 (ipykernel)",
   "language": "python",
   "name": "python3"
  },
  "language_info": {
   "codemirror_mode": {
    "name": "ipython",
    "version": 3
   },
   "file_extension": ".py",
   "mimetype": "text/x-python",
   "name": "python",
   "nbconvert_exporter": "python",
   "pygments_lexer": "ipython3",
   "version": "3.8.8"
  }
 },
 "nbformat": 4,
 "nbformat_minor": 5
}
